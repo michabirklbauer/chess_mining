{
 "cells": [
  {
   "cell_type": "markdown",
   "metadata": {},
   "source": [
    "## **Conformance Checking - White**"
   ]
  },
  {
   "cell_type": "markdown",
   "metadata": {},
   "source": [
    "#### **Token-based Replay**"
   ]
  },
  {
   "cell_type": "code",
   "execution_count": null,
   "metadata": {},
   "outputs": [
    {
     "data": {
      "application/vnd.jupyter.widget-view+json": {
       "model_id": "8158fa94729d4865aa25636793adc80d",
       "version_major": 2,
       "version_minor": 0
      },
      "text/plain": [
       "HBox(children=(HTML(value='parsing log, completed traces :: '), FloatProgress(value=0.0, max=87.0), HTML(value…"
      ]
     },
     "metadata": {},
     "output_type": "display_data"
    },
    {
     "name": "stdout",
     "output_type": "stream",
     "text": [
      "\n"
     ]
    },
    {
     "data": {
      "application/vnd.jupyter.widget-view+json": {
       "model_id": "0550af68636c4fe59ca047dcca53cb3c",
       "version_major": 2,
       "version_minor": 0
      },
      "text/plain": [
       "HBox(children=(HTML(value='parsing log, completed traces :: '), FloatProgress(value=0.0, max=15.0), HTML(value…"
      ]
     },
     "metadata": {},
     "output_type": "display_data"
    },
    {
     "name": "stdout",
     "output_type": "stream",
     "text": [
      "\n"
     ]
    }
   ],
   "source": [
    "from pm4py.objects.log.importer.xes import importer as xes_importer\n",
    "from pm4py.algo.discovery.alpha import algorithm as alpha_miner\n",
    "from pm4py.algo.conformance.tokenreplay import algorithm as token_replay\n",
    "\n",
    "log_1 = xes_importer.apply(\"bobby_fischer/df_white.xes\") # bobby fischer\n",
    "log_2 = xes_importer.apply(\"alfons2357/df_white.xes\") # alfons\n",
    "\n",
    "net_1, initial_marking_1, final_marking_1 = alpha_miner.apply(log_1)\n",
    "\n",
    "replayed_traces = token_replay.apply(log_2, net_1, initial_marking_1, final_marking_1)"
   ]
  },
  {
   "cell_type": "code",
   "execution_count": 6,
   "metadata": {},
   "outputs": [],
   "source": [
    "p, c, m, r = (0, 0, 0, 0)\n",
    "for trace in replayed_traces:\n",
    "    p = p + trace[\"produced_tokens\"]\n",
    "    c = c + trace[\"consumed_tokens\"]\n",
    "    m = m + trace[\"missing_tokens\"]\n",
    "    r = r + trace[\"remaining_tokens\"]"
   ]
  },
  {
   "cell_type": "markdown",
   "metadata": {},
   "source": [
    "**Conformance:**"
   ]
  },
  {
   "cell_type": "code",
   "execution_count": 7,
   "metadata": {},
   "outputs": [
    {
     "data": {
      "text/plain": [
       "0.8053571428571429"
      ]
     },
     "execution_count": 7,
     "metadata": {},
     "output_type": "execute_result"
    }
   ],
   "source": [
    "(1 / 2) * ( 1 - m / c) + (1 / 2) * ( 1 - r / p)"
   ]
  },
  {
   "cell_type": "markdown",
   "metadata": {},
   "source": [
    "**Visualization:**"
   ]
  },
  {
   "cell_type": "code",
   "execution_count": 13,
   "metadata": {},
   "outputs": [],
   "source": [
    "# visualization needs Graphviz installation\n",
    "\n",
    "visualization = False\n",
    "\n",
    "if visualization:\n",
    "    from pm4py.visualization.petrinet import visualizer as pn_visualizer\n",
    "    import os\n",
    "\n",
    "    graphviz_dir = \"D:/Users/Micha/Documents/GitHub/chess_mining/micha/Graphviz/bin\"\n",
    "    os.environ[\"PATH\"] += os.pathsep + graphviz_dir\n",
    "\n",
    "    parameters = {pn_visualizer.Variants.WO_DECORATION.value.Parameters.FORMAT:\"png\"}\n",
    "    gviz = pn_visualizer.apply(net_1, initial_marking_1, final_marking_1, parameters=parameters)\n",
    "    pn_visualizer.save(gviz, \"net_1.png\")\n",
    "\n",
    "    net_2, initial_marking_2, final_marking_2 = alpha_miner.apply(log_2)\n",
    "    gviz = pn_visualizer.apply(net_2, initial_marking_2, final_marking_2, parameters=parameters)\n",
    "    pn_visualizer.save(gviz, \"net_2.png\")"
   ]
  },
  {
   "cell_type": "markdown",
   "metadata": {},
   "source": [
    "## **Conformance Checking - Black**"
   ]
  },
  {
   "cell_type": "markdown",
   "metadata": {},
   "source": [
    "#### **Token-based Replay**"
   ]
  },
  {
   "cell_type": "code",
   "execution_count": null,
   "metadata": {},
   "outputs": [],
   "source": [
    "log_1 = xes_importer.apply(\"bobby_fischer/df_black.xes\") # bobby fischer\n",
    "log_2 = xes_importer.apply(\"alfons2357/df_black.xes\") # alfons\n",
    "\n",
    "net_1, initial_marking_1, final_marking_1 = alpha_miner.apply(log_1)\n",
    "\n",
    "replayed_traces = token_replay.apply(log_2, net_1, initial_marking_1, final_marking_1)"
   ]
  },
  {
   "cell_type": "code",
   "execution_count": null,
   "metadata": {},
   "outputs": [],
   "source": [
    "p, c, m, r = (0, 0, 0, 0)\n",
    "for trace in replayed_traces:\n",
    "    p = p + trace[\"produced_tokens\"]\n",
    "    c = c + trace[\"consumed_tokens\"]\n",
    "    m = m + trace[\"missing_tokens\"]\n",
    "    r = r + trace[\"remaining_tokens\"]"
   ]
  },
  {
   "cell_type": "markdown",
   "metadata": {},
   "source": [
    "**Conformance:**"
   ]
  },
  {
   "cell_type": "code",
   "execution_count": null,
   "metadata": {},
   "outputs": [],
   "source": [
    "(1 / 2) * ( 1 - m / c) + (1 / 2) * ( 1 - r / p)"
   ]
  },
  {
   "cell_type": "markdown",
   "metadata": {},
   "source": [
    "**Visualization:**"
   ]
  },
  {
   "cell_type": "code",
   "execution_count": null,
   "metadata": {},
   "outputs": [],
   "source": [
    "# visualization needs Graphviz installation\n",
    "\n",
    "visualization = False\n",
    "\n",
    "if visualization:\n",
    "    from pm4py.visualization.petrinet import visualizer as pn_visualizer\n",
    "    import os\n",
    "\n",
    "    graphviz_dir = \"D:/Users/Micha/Documents/GitHub/chess_mining/micha/Graphviz/bin\"\n",
    "    os.environ[\"PATH\"] += os.pathsep + graphviz_dir\n",
    "\n",
    "    parameters = {pn_visualizer.Variants.WO_DECORATION.value.Parameters.FORMAT:\"png\"}\n",
    "    gviz = pn_visualizer.apply(net_1, initial_marking_1, final_marking_1, parameters=parameters)\n",
    "    pn_visualizer.save(gviz, \"net_1.png\")\n",
    "\n",
    "    net_2, initial_marking_2, final_marking_2 = alpha_miner.apply(log_2)\n",
    "    gviz = pn_visualizer.apply(net_2, initial_marking_2, final_marking_2, parameters=parameters)\n",
    "    pn_visualizer.save(gviz, \"net_2.png\")"
   ]
  }
 ],
 "metadata": {
  "kernelspec": {
   "display_name": "Python 3",
   "language": "python",
   "name": "python3"
  },
  "language_info": {
   "codemirror_mode": {
    "name": "ipython",
    "version": 3
   },
   "file_extension": ".py",
   "mimetype": "text/x-python",
   "name": "python",
   "nbconvert_exporter": "python",
   "pygments_lexer": "ipython3",
   "version": "3.8.5"
  }
 },
 "nbformat": 4,
 "nbformat_minor": 4
}
